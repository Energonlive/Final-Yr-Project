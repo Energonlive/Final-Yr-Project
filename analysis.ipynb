{
 "cells": [
  {
   "cell_type": "code",
   "execution_count": 2,
   "metadata": {},
   "outputs": [],
   "source": [
    "import pandas as pd\n",
    "import matplotlib.pyplot as plt\n",
    "import seaborn as sns\n",
    "\n",
    "%matplotlib inline\n"
   ]
  },
  {
   "cell_type": "code",
   "execution_count": 3,
   "metadata": {},
   "outputs": [],
   "source": [
    "file_path = './data/Loan.csv'\n",
    "loan_df = pd.read_csv(file_path)"
   ]
  },
  {
   "cell_type": "code",
   "execution_count": null,
   "metadata": {},
   "outputs": [
    {
     "name": "stdout",
     "output_type": "stream",
     "text": [
      "<class 'pandas.core.frame.DataFrame'>\n",
      "RangeIndex: 20000 entries, 0 to 19999\n",
      "Data columns (total 36 columns):\n",
      " #   Column                      Non-Null Count  Dtype  \n",
      "---  ------                      --------------  -----  \n",
      " 0   ApplicationDate             20000 non-null  object \n",
      " 1   Age                         20000 non-null  int64  \n",
      " 2   AnnualIncome                20000 non-null  int64  \n",
      " 3   CreditScore                 20000 non-null  int64  \n",
      " 4   EmploymentStatus            20000 non-null  object \n",
      " 5   EducationLevel              20000 non-null  object \n",
      " 6   Experience                  20000 non-null  int64  \n",
      " 7   LoanAmount                  20000 non-null  int64  \n",
      " 8   LoanDuration                20000 non-null  int64  \n",
      " 9   MaritalStatus               20000 non-null  object \n",
      " 10  NumberOfDependents          20000 non-null  int64  \n",
      " 11  HomeOwnershipStatus         20000 non-null  object \n",
      " 12  MonthlyDebtPayments         20000 non-null  int64  \n",
      " 13  CreditCardUtilizationRate   20000 non-null  float64\n",
      " 14  NumberOfOpenCreditLines     20000 non-null  int64  \n",
      " 15  NumberOfCreditInquiries     20000 non-null  int64  \n",
      " 16  DebtToIncomeRatio           20000 non-null  float64\n",
      " 17  BankruptcyHistory           20000 non-null  int64  \n",
      " 18  LoanPurpose                 20000 non-null  object \n",
      " 19  PreviousLoanDefaults        20000 non-null  int64  \n",
      " 20  PaymentHistory              20000 non-null  int64  \n",
      " 21  LengthOfCreditHistory       20000 non-null  int64  \n",
      " 22  SavingsAccountBalance       20000 non-null  int64  \n",
      " 23  CheckingAccountBalance      20000 non-null  int64  \n",
      " 24  TotalAssets                 20000 non-null  int64  \n",
      " 25  TotalLiabilities            20000 non-null  int64  \n",
      " 26  MonthlyIncome               20000 non-null  float64\n",
      " 27  UtilityBillsPaymentHistory  20000 non-null  float64\n",
      " 28  JobTenure                   20000 non-null  int64  \n",
      " 29  NetWorth                    20000 non-null  int64  \n",
      " 30  BaseInterestRate            20000 non-null  float64\n",
      " 31  InterestRate                20000 non-null  float64\n",
      " 32  MonthlyLoanPayment          20000 non-null  float64\n",
      " 33  TotalDebtToIncomeRatio      20000 non-null  float64\n",
      " 34  LoanApproved                20000 non-null  int64  \n",
      " 35  RiskScore                   20000 non-null  float64\n",
      "dtypes: float64(9), int64(21), object(6)\n",
      "memory usage: 5.5+ MB\n"
     ]
    }
   ],
   "source": [
    "# loan_df.info()"
   ]
  },
  {
   "cell_type": "code",
   "execution_count": 5,
   "metadata": {},
   "outputs": [
    {
     "data": {
      "text/html": [
       "<div>\n",
       "<style scoped>\n",
       "    .dataframe tbody tr th:only-of-type {\n",
       "        vertical-align: middle;\n",
       "    }\n",
       "\n",
       "    .dataframe tbody tr th {\n",
       "        vertical-align: top;\n",
       "    }\n",
       "\n",
       "    .dataframe thead th {\n",
       "        text-align: right;\n",
       "    }\n",
       "</style>\n",
       "<table border=\"1\" class=\"dataframe\">\n",
       "  <thead>\n",
       "    <tr style=\"text-align: right;\">\n",
       "      <th></th>\n",
       "      <th>ApplicationDate</th>\n",
       "      <th>Age</th>\n",
       "      <th>AnnualIncome</th>\n",
       "      <th>CreditScore</th>\n",
       "      <th>EmploymentStatus</th>\n",
       "      <th>EducationLevel</th>\n",
       "      <th>Experience</th>\n",
       "      <th>LoanAmount</th>\n",
       "      <th>LoanDuration</th>\n",
       "      <th>MaritalStatus</th>\n",
       "      <th>...</th>\n",
       "      <th>MonthlyIncome</th>\n",
       "      <th>UtilityBillsPaymentHistory</th>\n",
       "      <th>JobTenure</th>\n",
       "      <th>NetWorth</th>\n",
       "      <th>BaseInterestRate</th>\n",
       "      <th>InterestRate</th>\n",
       "      <th>MonthlyLoanPayment</th>\n",
       "      <th>TotalDebtToIncomeRatio</th>\n",
       "      <th>LoanApproved</th>\n",
       "      <th>RiskScore</th>\n",
       "    </tr>\n",
       "  </thead>\n",
       "  <tbody>\n",
       "    <tr>\n",
       "      <th>0</th>\n",
       "      <td>2018-01-01</td>\n",
       "      <td>45</td>\n",
       "      <td>39948</td>\n",
       "      <td>617</td>\n",
       "      <td>Employed</td>\n",
       "      <td>Master</td>\n",
       "      <td>22</td>\n",
       "      <td>13152</td>\n",
       "      <td>48</td>\n",
       "      <td>Married</td>\n",
       "      <td>...</td>\n",
       "      <td>3329.000000</td>\n",
       "      <td>0.724972</td>\n",
       "      <td>11</td>\n",
       "      <td>126928</td>\n",
       "      <td>0.199652</td>\n",
       "      <td>0.227590</td>\n",
       "      <td>419.805992</td>\n",
       "      <td>0.181077</td>\n",
       "      <td>0</td>\n",
       "      <td>49.0</td>\n",
       "    </tr>\n",
       "    <tr>\n",
       "      <th>1</th>\n",
       "      <td>2018-01-02</td>\n",
       "      <td>38</td>\n",
       "      <td>39709</td>\n",
       "      <td>628</td>\n",
       "      <td>Employed</td>\n",
       "      <td>Associate</td>\n",
       "      <td>15</td>\n",
       "      <td>26045</td>\n",
       "      <td>48</td>\n",
       "      <td>Single</td>\n",
       "      <td>...</td>\n",
       "      <td>3309.083333</td>\n",
       "      <td>0.935132</td>\n",
       "      <td>3</td>\n",
       "      <td>43609</td>\n",
       "      <td>0.207045</td>\n",
       "      <td>0.201077</td>\n",
       "      <td>794.054238</td>\n",
       "      <td>0.389852</td>\n",
       "      <td>0</td>\n",
       "      <td>52.0</td>\n",
       "    </tr>\n",
       "    <tr>\n",
       "      <th>2</th>\n",
       "      <td>2018-01-03</td>\n",
       "      <td>47</td>\n",
       "      <td>40724</td>\n",
       "      <td>570</td>\n",
       "      <td>Employed</td>\n",
       "      <td>Bachelor</td>\n",
       "      <td>26</td>\n",
       "      <td>17627</td>\n",
       "      <td>36</td>\n",
       "      <td>Married</td>\n",
       "      <td>...</td>\n",
       "      <td>3393.666667</td>\n",
       "      <td>0.872241</td>\n",
       "      <td>6</td>\n",
       "      <td>5205</td>\n",
       "      <td>0.217627</td>\n",
       "      <td>0.212548</td>\n",
       "      <td>666.406688</td>\n",
       "      <td>0.462157</td>\n",
       "      <td>0</td>\n",
       "      <td>52.0</td>\n",
       "    </tr>\n",
       "    <tr>\n",
       "      <th>3</th>\n",
       "      <td>2018-01-04</td>\n",
       "      <td>58</td>\n",
       "      <td>69084</td>\n",
       "      <td>545</td>\n",
       "      <td>Employed</td>\n",
       "      <td>High School</td>\n",
       "      <td>34</td>\n",
       "      <td>37898</td>\n",
       "      <td>96</td>\n",
       "      <td>Single</td>\n",
       "      <td>...</td>\n",
       "      <td>5757.000000</td>\n",
       "      <td>0.896155</td>\n",
       "      <td>5</td>\n",
       "      <td>99452</td>\n",
       "      <td>0.300398</td>\n",
       "      <td>0.300911</td>\n",
       "      <td>1047.506980</td>\n",
       "      <td>0.313098</td>\n",
       "      <td>0</td>\n",
       "      <td>54.0</td>\n",
       "    </tr>\n",
       "    <tr>\n",
       "      <th>4</th>\n",
       "      <td>2018-01-05</td>\n",
       "      <td>37</td>\n",
       "      <td>103264</td>\n",
       "      <td>594</td>\n",
       "      <td>Employed</td>\n",
       "      <td>Associate</td>\n",
       "      <td>17</td>\n",
       "      <td>9184</td>\n",
       "      <td>36</td>\n",
       "      <td>Married</td>\n",
       "      <td>...</td>\n",
       "      <td>8605.333333</td>\n",
       "      <td>0.941369</td>\n",
       "      <td>5</td>\n",
       "      <td>227019</td>\n",
       "      <td>0.197184</td>\n",
       "      <td>0.175990</td>\n",
       "      <td>330.179140</td>\n",
       "      <td>0.070210</td>\n",
       "      <td>1</td>\n",
       "      <td>36.0</td>\n",
       "    </tr>\n",
       "  </tbody>\n",
       "</table>\n",
       "<p>5 rows × 36 columns</p>\n",
       "</div>"
      ],
      "text/plain": [
       "  ApplicationDate  Age  AnnualIncome  CreditScore EmploymentStatus  \\\n",
       "0      2018-01-01   45         39948          617         Employed   \n",
       "1      2018-01-02   38         39709          628         Employed   \n",
       "2      2018-01-03   47         40724          570         Employed   \n",
       "3      2018-01-04   58         69084          545         Employed   \n",
       "4      2018-01-05   37        103264          594         Employed   \n",
       "\n",
       "  EducationLevel  Experience  LoanAmount  LoanDuration MaritalStatus  ...  \\\n",
       "0         Master          22       13152            48       Married  ...   \n",
       "1      Associate          15       26045            48        Single  ...   \n",
       "2       Bachelor          26       17627            36       Married  ...   \n",
       "3    High School          34       37898            96        Single  ...   \n",
       "4      Associate          17        9184            36       Married  ...   \n",
       "\n",
       "   MonthlyIncome UtilityBillsPaymentHistory  JobTenure  NetWorth  \\\n",
       "0    3329.000000                   0.724972         11    126928   \n",
       "1    3309.083333                   0.935132          3     43609   \n",
       "2    3393.666667                   0.872241          6      5205   \n",
       "3    5757.000000                   0.896155          5     99452   \n",
       "4    8605.333333                   0.941369          5    227019   \n",
       "\n",
       "   BaseInterestRate  InterestRate  MonthlyLoanPayment  TotalDebtToIncomeRatio  \\\n",
       "0          0.199652      0.227590          419.805992                0.181077   \n",
       "1          0.207045      0.201077          794.054238                0.389852   \n",
       "2          0.217627      0.212548          666.406688                0.462157   \n",
       "3          0.300398      0.300911         1047.506980                0.313098   \n",
       "4          0.197184      0.175990          330.179140                0.070210   \n",
       "\n",
       "  LoanApproved  RiskScore  \n",
       "0            0       49.0  \n",
       "1            0       52.0  \n",
       "2            0       52.0  \n",
       "3            0       54.0  \n",
       "4            1       36.0  \n",
       "\n",
       "[5 rows x 36 columns]"
      ]
     },
     "execution_count": 5,
     "metadata": {},
     "output_type": "execute_result"
    }
   ],
   "source": [
    "loan_df.head()"
   ]
  },
  {
   "cell_type": "code",
   "execution_count": 6,
   "metadata": {},
   "outputs": [
    {
     "data": {
      "text/plain": [
       "Index(['ApplicationDate', 'Age', 'AnnualIncome', 'CreditScore',\n",
       "       'EmploymentStatus', 'EducationLevel', 'Experience', 'LoanAmount',\n",
       "       'LoanDuration', 'MaritalStatus', 'NumberOfDependents',\n",
       "       'HomeOwnershipStatus', 'MonthlyDebtPayments',\n",
       "       'CreditCardUtilizationRate', 'NumberOfOpenCreditLines',\n",
       "       'NumberOfCreditInquiries', 'DebtToIncomeRatio', 'BankruptcyHistory',\n",
       "       'LoanPurpose', 'PreviousLoanDefaults', 'PaymentHistory',\n",
       "       'LengthOfCreditHistory', 'SavingsAccountBalance',\n",
       "       'CheckingAccountBalance', 'TotalAssets', 'TotalLiabilities',\n",
       "       'MonthlyIncome', 'UtilityBillsPaymentHistory', 'JobTenure', 'NetWorth',\n",
       "       'BaseInterestRate', 'InterestRate', 'MonthlyLoanPayment',\n",
       "       'TotalDebtToIncomeRatio', 'LoanApproved', 'RiskScore'],\n",
       "      dtype='object')"
      ]
     },
     "execution_count": 6,
     "metadata": {},
     "output_type": "execute_result"
    }
   ],
   "source": [
    "loan_df.columns"
   ]
  },
  {
   "cell_type": "code",
   "execution_count": 7,
   "metadata": {},
   "outputs": [
    {
     "data": {
      "text/plain": [
       "ApplicationDate                object\n",
       "Age                             int64\n",
       "AnnualIncome                    int64\n",
       "CreditScore                     int64\n",
       "EmploymentStatus               object\n",
       "EducationLevel                 object\n",
       "Experience                      int64\n",
       "LoanAmount                      int64\n",
       "LoanDuration                    int64\n",
       "MaritalStatus                  object\n",
       "NumberOfDependents              int64\n",
       "HomeOwnershipStatus            object\n",
       "MonthlyDebtPayments             int64\n",
       "CreditCardUtilizationRate     float64\n",
       "NumberOfOpenCreditLines         int64\n",
       "NumberOfCreditInquiries         int64\n",
       "DebtToIncomeRatio             float64\n",
       "BankruptcyHistory               int64\n",
       "LoanPurpose                    object\n",
       "PreviousLoanDefaults            int64\n",
       "PaymentHistory                  int64\n",
       "LengthOfCreditHistory           int64\n",
       "SavingsAccountBalance           int64\n",
       "CheckingAccountBalance          int64\n",
       "TotalAssets                     int64\n",
       "TotalLiabilities                int64\n",
       "MonthlyIncome                 float64\n",
       "UtilityBillsPaymentHistory    float64\n",
       "JobTenure                       int64\n",
       "NetWorth                        int64\n",
       "BaseInterestRate              float64\n",
       "InterestRate                  float64\n",
       "MonthlyLoanPayment            float64\n",
       "TotalDebtToIncomeRatio        float64\n",
       "LoanApproved                    int64\n",
       "RiskScore                     float64\n",
       "dtype: object"
      ]
     },
     "execution_count": 7,
     "metadata": {},
     "output_type": "execute_result"
    }
   ],
   "source": [
    "loan_df.dtypes"
   ]
  },
  {
   "cell_type": "code",
   "execution_count": 8,
   "metadata": {},
   "outputs": [],
   "source": [
    "loan_df['ApplicationDate'] = pd.to_datetime(loan_df['ApplicationDate'])"
   ]
  },
  {
   "cell_type": "code",
   "execution_count": 9,
   "metadata": {},
   "outputs": [
    {
     "data": {
      "text/plain": [
       "ApplicationDate               datetime64[ns]\n",
       "Age                                    int64\n",
       "AnnualIncome                           int64\n",
       "CreditScore                            int64\n",
       "EmploymentStatus                      object\n",
       "EducationLevel                        object\n",
       "Experience                             int64\n",
       "LoanAmount                             int64\n",
       "LoanDuration                           int64\n",
       "MaritalStatus                         object\n",
       "NumberOfDependents                     int64\n",
       "HomeOwnershipStatus                   object\n",
       "MonthlyDebtPayments                    int64\n",
       "CreditCardUtilizationRate            float64\n",
       "NumberOfOpenCreditLines                int64\n",
       "NumberOfCreditInquiries                int64\n",
       "DebtToIncomeRatio                    float64\n",
       "BankruptcyHistory                      int64\n",
       "LoanPurpose                           object\n",
       "PreviousLoanDefaults                   int64\n",
       "PaymentHistory                         int64\n",
       "LengthOfCreditHistory                  int64\n",
       "SavingsAccountBalance                  int64\n",
       "CheckingAccountBalance                 int64\n",
       "TotalAssets                            int64\n",
       "TotalLiabilities                       int64\n",
       "MonthlyIncome                        float64\n",
       "UtilityBillsPaymentHistory           float64\n",
       "JobTenure                              int64\n",
       "NetWorth                               int64\n",
       "BaseInterestRate                     float64\n",
       "InterestRate                         float64\n",
       "MonthlyLoanPayment                   float64\n",
       "TotalDebtToIncomeRatio               float64\n",
       "LoanApproved                           int64\n",
       "RiskScore                            float64\n",
       "dtype: object"
      ]
     },
     "execution_count": 9,
     "metadata": {},
     "output_type": "execute_result"
    }
   ],
   "source": [
    "loan_df.dtypes"
   ]
  },
  {
   "cell_type": "code",
   "execution_count": 10,
   "metadata": {},
   "outputs": [
    {
     "data": {
      "text/plain": [
       "ApplicationDate               0\n",
       "Age                           0\n",
       "AnnualIncome                  0\n",
       "CreditScore                   0\n",
       "EmploymentStatus              0\n",
       "EducationLevel                0\n",
       "Experience                    0\n",
       "LoanAmount                    0\n",
       "LoanDuration                  0\n",
       "MaritalStatus                 0\n",
       "NumberOfDependents            0\n",
       "HomeOwnershipStatus           0\n",
       "MonthlyDebtPayments           0\n",
       "CreditCardUtilizationRate     0\n",
       "NumberOfOpenCreditLines       0\n",
       "NumberOfCreditInquiries       0\n",
       "DebtToIncomeRatio             0\n",
       "BankruptcyHistory             0\n",
       "LoanPurpose                   0\n",
       "PreviousLoanDefaults          0\n",
       "PaymentHistory                0\n",
       "LengthOfCreditHistory         0\n",
       "SavingsAccountBalance         0\n",
       "CheckingAccountBalance        0\n",
       "TotalAssets                   0\n",
       "TotalLiabilities              0\n",
       "MonthlyIncome                 0\n",
       "UtilityBillsPaymentHistory    0\n",
       "JobTenure                     0\n",
       "NetWorth                      0\n",
       "BaseInterestRate              0\n",
       "InterestRate                  0\n",
       "MonthlyLoanPayment            0\n",
       "TotalDebtToIncomeRatio        0\n",
       "LoanApproved                  0\n",
       "RiskScore                     0\n",
       "dtype: int64"
      ]
     },
     "execution_count": 10,
     "metadata": {},
     "output_type": "execute_result"
    }
   ],
   "source": [
    "loan_df.isnull().sum() "
   ]
  },
  {
   "cell_type": "code",
   "execution_count": 11,
   "metadata": {},
   "outputs": [
    {
     "data": {
      "text/plain": [
       "np.int64(0)"
      ]
     },
     "execution_count": 11,
     "metadata": {},
     "output_type": "execute_result"
    }
   ],
   "source": [
    "loan_df.duplicated().sum()"
   ]
  },
  {
   "cell_type": "code",
   "execution_count": 12,
   "metadata": {},
   "outputs": [
    {
     "data": {
      "text/html": [
       "<div>\n",
       "<style scoped>\n",
       "    .dataframe tbody tr th:only-of-type {\n",
       "        vertical-align: middle;\n",
       "    }\n",
       "\n",
       "    .dataframe tbody tr th {\n",
       "        vertical-align: top;\n",
       "    }\n",
       "\n",
       "    .dataframe thead th {\n",
       "        text-align: right;\n",
       "    }\n",
       "</style>\n",
       "<table border=\"1\" class=\"dataframe\">\n",
       "  <thead>\n",
       "    <tr style=\"text-align: right;\">\n",
       "      <th></th>\n",
       "      <th>ApplicationDate</th>\n",
       "      <th>Age</th>\n",
       "      <th>AnnualIncome</th>\n",
       "      <th>CreditScore</th>\n",
       "      <th>Experience</th>\n",
       "      <th>LoanAmount</th>\n",
       "      <th>LoanDuration</th>\n",
       "      <th>NumberOfDependents</th>\n",
       "      <th>MonthlyDebtPayments</th>\n",
       "      <th>CreditCardUtilizationRate</th>\n",
       "      <th>...</th>\n",
       "      <th>MonthlyIncome</th>\n",
       "      <th>UtilityBillsPaymentHistory</th>\n",
       "      <th>JobTenure</th>\n",
       "      <th>NetWorth</th>\n",
       "      <th>BaseInterestRate</th>\n",
       "      <th>InterestRate</th>\n",
       "      <th>MonthlyLoanPayment</th>\n",
       "      <th>TotalDebtToIncomeRatio</th>\n",
       "      <th>LoanApproved</th>\n",
       "      <th>RiskScore</th>\n",
       "    </tr>\n",
       "  </thead>\n",
       "  <tbody>\n",
       "    <tr>\n",
       "      <th>count</th>\n",
       "      <td>20000</td>\n",
       "      <td>20000.000000</td>\n",
       "      <td>20000.000000</td>\n",
       "      <td>20000.000000</td>\n",
       "      <td>20000.000000</td>\n",
       "      <td>20000.000000</td>\n",
       "      <td>20000.000000</td>\n",
       "      <td>20000.000000</td>\n",
       "      <td>20000.000000</td>\n",
       "      <td>20000.000000</td>\n",
       "      <td>...</td>\n",
       "      <td>20000.000000</td>\n",
       "      <td>20000.000000</td>\n",
       "      <td>20000.000000</td>\n",
       "      <td>2.000000e+04</td>\n",
       "      <td>20000.000000</td>\n",
       "      <td>20000.000000</td>\n",
       "      <td>20000.000000</td>\n",
       "      <td>20000.000000</td>\n",
       "      <td>20000.000000</td>\n",
       "      <td>20000.000000</td>\n",
       "    </tr>\n",
       "    <tr>\n",
       "      <th>mean</th>\n",
       "      <td>2045-05-18 12:00:00</td>\n",
       "      <td>39.752600</td>\n",
       "      <td>59161.473550</td>\n",
       "      <td>571.612400</td>\n",
       "      <td>17.522750</td>\n",
       "      <td>24882.867800</td>\n",
       "      <td>54.057000</td>\n",
       "      <td>1.517300</td>\n",
       "      <td>454.292700</td>\n",
       "      <td>0.286381</td>\n",
       "      <td>...</td>\n",
       "      <td>4891.715521</td>\n",
       "      <td>0.799918</td>\n",
       "      <td>5.002650</td>\n",
       "      <td>7.229432e+04</td>\n",
       "      <td>0.239124</td>\n",
       "      <td>0.239110</td>\n",
       "      <td>911.607052</td>\n",
       "      <td>0.402182</td>\n",
       "      <td>0.239000</td>\n",
       "      <td>50.766780</td>\n",
       "    </tr>\n",
       "    <tr>\n",
       "      <th>min</th>\n",
       "      <td>2018-01-01 00:00:00</td>\n",
       "      <td>18.000000</td>\n",
       "      <td>15000.000000</td>\n",
       "      <td>343.000000</td>\n",
       "      <td>0.000000</td>\n",
       "      <td>3674.000000</td>\n",
       "      <td>12.000000</td>\n",
       "      <td>0.000000</td>\n",
       "      <td>50.000000</td>\n",
       "      <td>0.000974</td>\n",
       "      <td>...</td>\n",
       "      <td>1250.000000</td>\n",
       "      <td>0.259203</td>\n",
       "      <td>0.000000</td>\n",
       "      <td>1.000000e+03</td>\n",
       "      <td>0.130101</td>\n",
       "      <td>0.113310</td>\n",
       "      <td>97.030193</td>\n",
       "      <td>0.016043</td>\n",
       "      <td>0.000000</td>\n",
       "      <td>28.800000</td>\n",
       "    </tr>\n",
       "    <tr>\n",
       "      <th>25%</th>\n",
       "      <td>2031-09-09 18:00:00</td>\n",
       "      <td>32.000000</td>\n",
       "      <td>31679.000000</td>\n",
       "      <td>540.000000</td>\n",
       "      <td>9.000000</td>\n",
       "      <td>15575.000000</td>\n",
       "      <td>36.000000</td>\n",
       "      <td>0.000000</td>\n",
       "      <td>286.000000</td>\n",
       "      <td>0.160794</td>\n",
       "      <td>...</td>\n",
       "      <td>2629.583333</td>\n",
       "      <td>0.727379</td>\n",
       "      <td>3.000000</td>\n",
       "      <td>8.734750e+03</td>\n",
       "      <td>0.213889</td>\n",
       "      <td>0.209142</td>\n",
       "      <td>493.763700</td>\n",
       "      <td>0.179693</td>\n",
       "      <td>0.000000</td>\n",
       "      <td>46.000000</td>\n",
       "    </tr>\n",
       "    <tr>\n",
       "      <th>50%</th>\n",
       "      <td>2045-05-18 12:00:00</td>\n",
       "      <td>40.000000</td>\n",
       "      <td>48566.000000</td>\n",
       "      <td>578.000000</td>\n",
       "      <td>17.000000</td>\n",
       "      <td>21914.500000</td>\n",
       "      <td>48.000000</td>\n",
       "      <td>1.000000</td>\n",
       "      <td>402.000000</td>\n",
       "      <td>0.266673</td>\n",
       "      <td>...</td>\n",
       "      <td>4034.750000</td>\n",
       "      <td>0.820962</td>\n",
       "      <td>5.000000</td>\n",
       "      <td>3.285550e+04</td>\n",
       "      <td>0.236157</td>\n",
       "      <td>0.235390</td>\n",
       "      <td>728.511452</td>\n",
       "      <td>0.302711</td>\n",
       "      <td>0.000000</td>\n",
       "      <td>52.000000</td>\n",
       "    </tr>\n",
       "    <tr>\n",
       "      <th>75%</th>\n",
       "      <td>2059-01-25 06:00:00</td>\n",
       "      <td>48.000000</td>\n",
       "      <td>74391.000000</td>\n",
       "      <td>609.000000</td>\n",
       "      <td>25.000000</td>\n",
       "      <td>30835.000000</td>\n",
       "      <td>72.000000</td>\n",
       "      <td>2.000000</td>\n",
       "      <td>564.000000</td>\n",
       "      <td>0.390634</td>\n",
       "      <td>...</td>\n",
       "      <td>6163.000000</td>\n",
       "      <td>0.892333</td>\n",
       "      <td>6.000000</td>\n",
       "      <td>8.882550e+04</td>\n",
       "      <td>0.261533</td>\n",
       "      <td>0.265532</td>\n",
       "      <td>1112.770759</td>\n",
       "      <td>0.509214</td>\n",
       "      <td>0.000000</td>\n",
       "      <td>56.000000</td>\n",
       "    </tr>\n",
       "    <tr>\n",
       "      <th>max</th>\n",
       "      <td>2072-10-03 00:00:00</td>\n",
       "      <td>80.000000</td>\n",
       "      <td>485341.000000</td>\n",
       "      <td>712.000000</td>\n",
       "      <td>61.000000</td>\n",
       "      <td>184732.000000</td>\n",
       "      <td>120.000000</td>\n",
       "      <td>5.000000</td>\n",
       "      <td>2919.000000</td>\n",
       "      <td>0.917380</td>\n",
       "      <td>...</td>\n",
       "      <td>25000.000000</td>\n",
       "      <td>0.999433</td>\n",
       "      <td>16.000000</td>\n",
       "      <td>2.603208e+06</td>\n",
       "      <td>0.405029</td>\n",
       "      <td>0.446787</td>\n",
       "      <td>10892.629520</td>\n",
       "      <td>4.647657</td>\n",
       "      <td>1.000000</td>\n",
       "      <td>84.000000</td>\n",
       "    </tr>\n",
       "    <tr>\n",
       "      <th>std</th>\n",
       "      <td>NaN</td>\n",
       "      <td>11.622713</td>\n",
       "      <td>40350.845168</td>\n",
       "      <td>50.997358</td>\n",
       "      <td>11.316836</td>\n",
       "      <td>13427.421217</td>\n",
       "      <td>24.664857</td>\n",
       "      <td>1.386325</td>\n",
       "      <td>240.507609</td>\n",
       "      <td>0.159793</td>\n",
       "      <td>...</td>\n",
       "      <td>3296.771598</td>\n",
       "      <td>0.120665</td>\n",
       "      <td>2.236804</td>\n",
       "      <td>1.179200e+05</td>\n",
       "      <td>0.035509</td>\n",
       "      <td>0.042205</td>\n",
       "      <td>674.583473</td>\n",
       "      <td>0.338924</td>\n",
       "      <td>0.426483</td>\n",
       "      <td>7.778262</td>\n",
       "    </tr>\n",
       "  </tbody>\n",
       "</table>\n",
       "<p>8 rows × 31 columns</p>\n",
       "</div>"
      ],
      "text/plain": [
       "           ApplicationDate           Age   AnnualIncome   CreditScore  \\\n",
       "count                20000  20000.000000   20000.000000  20000.000000   \n",
       "mean   2045-05-18 12:00:00     39.752600   59161.473550    571.612400   \n",
       "min    2018-01-01 00:00:00     18.000000   15000.000000    343.000000   \n",
       "25%    2031-09-09 18:00:00     32.000000   31679.000000    540.000000   \n",
       "50%    2045-05-18 12:00:00     40.000000   48566.000000    578.000000   \n",
       "75%    2059-01-25 06:00:00     48.000000   74391.000000    609.000000   \n",
       "max    2072-10-03 00:00:00     80.000000  485341.000000    712.000000   \n",
       "std                    NaN     11.622713   40350.845168     50.997358   \n",
       "\n",
       "         Experience     LoanAmount  LoanDuration  NumberOfDependents  \\\n",
       "count  20000.000000   20000.000000  20000.000000        20000.000000   \n",
       "mean      17.522750   24882.867800     54.057000            1.517300   \n",
       "min        0.000000    3674.000000     12.000000            0.000000   \n",
       "25%        9.000000   15575.000000     36.000000            0.000000   \n",
       "50%       17.000000   21914.500000     48.000000            1.000000   \n",
       "75%       25.000000   30835.000000     72.000000            2.000000   \n",
       "max       61.000000  184732.000000    120.000000            5.000000   \n",
       "std       11.316836   13427.421217     24.664857            1.386325   \n",
       "\n",
       "       MonthlyDebtPayments  CreditCardUtilizationRate  ...  MonthlyIncome  \\\n",
       "count         20000.000000               20000.000000  ...   20000.000000   \n",
       "mean            454.292700                   0.286381  ...    4891.715521   \n",
       "min              50.000000                   0.000974  ...    1250.000000   \n",
       "25%             286.000000                   0.160794  ...    2629.583333   \n",
       "50%             402.000000                   0.266673  ...    4034.750000   \n",
       "75%             564.000000                   0.390634  ...    6163.000000   \n",
       "max            2919.000000                   0.917380  ...   25000.000000   \n",
       "std             240.507609                   0.159793  ...    3296.771598   \n",
       "\n",
       "       UtilityBillsPaymentHistory     JobTenure      NetWorth  \\\n",
       "count                20000.000000  20000.000000  2.000000e+04   \n",
       "mean                     0.799918      5.002650  7.229432e+04   \n",
       "min                      0.259203      0.000000  1.000000e+03   \n",
       "25%                      0.727379      3.000000  8.734750e+03   \n",
       "50%                      0.820962      5.000000  3.285550e+04   \n",
       "75%                      0.892333      6.000000  8.882550e+04   \n",
       "max                      0.999433     16.000000  2.603208e+06   \n",
       "std                      0.120665      2.236804  1.179200e+05   \n",
       "\n",
       "       BaseInterestRate  InterestRate  MonthlyLoanPayment  \\\n",
       "count      20000.000000  20000.000000        20000.000000   \n",
       "mean           0.239124      0.239110          911.607052   \n",
       "min            0.130101      0.113310           97.030193   \n",
       "25%            0.213889      0.209142          493.763700   \n",
       "50%            0.236157      0.235390          728.511452   \n",
       "75%            0.261533      0.265532         1112.770759   \n",
       "max            0.405029      0.446787        10892.629520   \n",
       "std            0.035509      0.042205          674.583473   \n",
       "\n",
       "       TotalDebtToIncomeRatio  LoanApproved     RiskScore  \n",
       "count            20000.000000  20000.000000  20000.000000  \n",
       "mean                 0.402182      0.239000     50.766780  \n",
       "min                  0.016043      0.000000     28.800000  \n",
       "25%                  0.179693      0.000000     46.000000  \n",
       "50%                  0.302711      0.000000     52.000000  \n",
       "75%                  0.509214      0.000000     56.000000  \n",
       "max                  4.647657      1.000000     84.000000  \n",
       "std                  0.338924      0.426483      7.778262  \n",
       "\n",
       "[8 rows x 31 columns]"
      ]
     },
     "execution_count": 12,
     "metadata": {},
     "output_type": "execute_result"
    }
   ],
   "source": [
    "loan_df.describe()"
   ]
  },
  {
   "cell_type": "code",
   "execution_count": 13,
   "metadata": {},
   "outputs": [
    {
     "data": {
      "text/html": [
       "<div>\n",
       "<style scoped>\n",
       "    .dataframe tbody tr th:only-of-type {\n",
       "        vertical-align: middle;\n",
       "    }\n",
       "\n",
       "    .dataframe tbody tr th {\n",
       "        vertical-align: top;\n",
       "    }\n",
       "\n",
       "    .dataframe thead th {\n",
       "        text-align: right;\n",
       "    }\n",
       "</style>\n",
       "<table border=\"1\" class=\"dataframe\">\n",
       "  <thead>\n",
       "    <tr style=\"text-align: right;\">\n",
       "      <th></th>\n",
       "      <th>ApplicationDate</th>\n",
       "      <th>EmploymentStatus</th>\n",
       "      <th>EducationLevel</th>\n",
       "      <th>MaritalStatus</th>\n",
       "      <th>HomeOwnershipStatus</th>\n",
       "      <th>LoanPurpose</th>\n",
       "    </tr>\n",
       "  </thead>\n",
       "  <tbody>\n",
       "    <tr>\n",
       "      <th>count</th>\n",
       "      <td>20000</td>\n",
       "      <td>20000</td>\n",
       "      <td>20000</td>\n",
       "      <td>20000</td>\n",
       "      <td>20000</td>\n",
       "      <td>20000</td>\n",
       "    </tr>\n",
       "    <tr>\n",
       "      <th>unique</th>\n",
       "      <td>NaN</td>\n",
       "      <td>3</td>\n",
       "      <td>5</td>\n",
       "      <td>4</td>\n",
       "      <td>4</td>\n",
       "      <td>5</td>\n",
       "    </tr>\n",
       "    <tr>\n",
       "      <th>top</th>\n",
       "      <td>NaN</td>\n",
       "      <td>Employed</td>\n",
       "      <td>Bachelor</td>\n",
       "      <td>Married</td>\n",
       "      <td>Mortgage</td>\n",
       "      <td>Home</td>\n",
       "    </tr>\n",
       "    <tr>\n",
       "      <th>freq</th>\n",
       "      <td>NaN</td>\n",
       "      <td>17036</td>\n",
       "      <td>6054</td>\n",
       "      <td>10041</td>\n",
       "      <td>7939</td>\n",
       "      <td>5925</td>\n",
       "    </tr>\n",
       "    <tr>\n",
       "      <th>mean</th>\n",
       "      <td>2045-05-18 12:00:00</td>\n",
       "      <td>NaN</td>\n",
       "      <td>NaN</td>\n",
       "      <td>NaN</td>\n",
       "      <td>NaN</td>\n",
       "      <td>NaN</td>\n",
       "    </tr>\n",
       "    <tr>\n",
       "      <th>min</th>\n",
       "      <td>2018-01-01 00:00:00</td>\n",
       "      <td>NaN</td>\n",
       "      <td>NaN</td>\n",
       "      <td>NaN</td>\n",
       "      <td>NaN</td>\n",
       "      <td>NaN</td>\n",
       "    </tr>\n",
       "    <tr>\n",
       "      <th>25%</th>\n",
       "      <td>2031-09-09 18:00:00</td>\n",
       "      <td>NaN</td>\n",
       "      <td>NaN</td>\n",
       "      <td>NaN</td>\n",
       "      <td>NaN</td>\n",
       "      <td>NaN</td>\n",
       "    </tr>\n",
       "    <tr>\n",
       "      <th>50%</th>\n",
       "      <td>2045-05-18 12:00:00</td>\n",
       "      <td>NaN</td>\n",
       "      <td>NaN</td>\n",
       "      <td>NaN</td>\n",
       "      <td>NaN</td>\n",
       "      <td>NaN</td>\n",
       "    </tr>\n",
       "    <tr>\n",
       "      <th>75%</th>\n",
       "      <td>2059-01-25 06:00:00</td>\n",
       "      <td>NaN</td>\n",
       "      <td>NaN</td>\n",
       "      <td>NaN</td>\n",
       "      <td>NaN</td>\n",
       "      <td>NaN</td>\n",
       "    </tr>\n",
       "    <tr>\n",
       "      <th>max</th>\n",
       "      <td>2072-10-03 00:00:00</td>\n",
       "      <td>NaN</td>\n",
       "      <td>NaN</td>\n",
       "      <td>NaN</td>\n",
       "      <td>NaN</td>\n",
       "      <td>NaN</td>\n",
       "    </tr>\n",
       "  </tbody>\n",
       "</table>\n",
       "</div>"
      ],
      "text/plain": [
       "            ApplicationDate EmploymentStatus EducationLevel MaritalStatus  \\\n",
       "count                 20000            20000          20000         20000   \n",
       "unique                  NaN                3              5             4   \n",
       "top                     NaN         Employed       Bachelor       Married   \n",
       "freq                    NaN            17036           6054         10041   \n",
       "mean    2045-05-18 12:00:00              NaN            NaN           NaN   \n",
       "min     2018-01-01 00:00:00              NaN            NaN           NaN   \n",
       "25%     2031-09-09 18:00:00              NaN            NaN           NaN   \n",
       "50%     2045-05-18 12:00:00              NaN            NaN           NaN   \n",
       "75%     2059-01-25 06:00:00              NaN            NaN           NaN   \n",
       "max     2072-10-03 00:00:00              NaN            NaN           NaN   \n",
       "\n",
       "       HomeOwnershipStatus LoanPurpose  \n",
       "count                20000       20000  \n",
       "unique                   4           5  \n",
       "top               Mortgage        Home  \n",
       "freq                  7939        5925  \n",
       "mean                   NaN         NaN  \n",
       "min                    NaN         NaN  \n",
       "25%                    NaN         NaN  \n",
       "50%                    NaN         NaN  \n",
       "75%                    NaN         NaN  \n",
       "max                    NaN         NaN  "
      ]
     },
     "execution_count": 13,
     "metadata": {},
     "output_type": "execute_result"
    }
   ],
   "source": [
    "loan_df.describe(exclude=['int64', 'float64'])"
   ]
  },
  {
   "cell_type": "markdown",
   "metadata": {},
   "source": [
    "# Data Exploration"
   ]
  },
  {
   "cell_type": "code",
   "execution_count": 14,
   "metadata": {},
   "outputs": [],
   "source": [
    "categorical_cols = loan_df.select_dtypes(include=['object']).columns"
   ]
  },
  {
   "cell_type": "code",
   "execution_count": 15,
   "metadata": {},
   "outputs": [
    {
     "data": {
      "text/plain": [
       "Index(['EmploymentStatus', 'EducationLevel', 'MaritalStatus',\n",
       "       'HomeOwnershipStatus', 'LoanPurpose'],\n",
       "      dtype='object')"
      ]
     },
     "execution_count": 15,
     "metadata": {},
     "output_type": "execute_result"
    }
   ],
   "source": [
    "categorical_cols"
   ]
  },
  {
   "cell_type": "code",
   "execution_count": 16,
   "metadata": {},
   "outputs": [
    {
     "data": {
      "image/png": "[encoded data removed]",
      "text/plain": [
       "<Figure size 800x500 with 1 Axes>"
      ]
     },
     "metadata": {},
     "output_type": "display_data"
    }
   ],
   "source": [
    "plt.figure(figsize=(8, 5))\n",
    "sns.countplot(data=loan_df, x='LoanApproved', hue='LoanApproved', palette='bright')\n",
    "plt.title('Loan Approved Count')\n",
    "plt.show()\n",
    "\n"
   ]
  },
  {
   "cell_type": "code",
   "execution_count": 17,
   "metadata": {},
   "outputs": [],
   "source": [
    "per_rejected = loan_df['LoanApproved'].value_counts()[0] / loan_df['LoanApproved'].value_counts().sum() * 100\n",
    "per_approved = loan_df['LoanApproved'].value_counts()[1] / loan_df['LoanApproved'].value_counts().sum() * 100"
   ]
  },
  {
   "cell_type": "code",
   "execution_count": 18,
   "metadata": {},
   "outputs": [
    {
     "name": "stdout",
     "output_type": "stream",
     "text": [
      "Percentage of Loans Rejected: 76.10%\n",
      "Percentage of Loans Approved: 23.90%\n"
     ]
    }
   ],
   "source": [
    "print(f'Percentage of Loans Rejected: {per_rejected:.2f}%')\n",
    "print(f'Percentage of Loans Approved: {per_approved:.2f}%')"
   ]
  },
  {
   "cell_type": "markdown",
   "metadata": {},
   "source": [
    "### Perentage distribution of Loan Approvals\n",
    "**Percentage of Loan Applicants Rejected**: 76.10% \n",
    "\n",
    "**Percentage of Loan Applicants Approved**: 23.90%\n"
   ]
  },
  {
   "cell_type": "code",
   "execution_count": 19,
   "metadata": {},
   "outputs": [
    {
     "data": {
      "image/png": "[encoded data removed]",
      "text/plain": [
       "<Figure size 640x480 with 1 Axes>"
      ]
     },
     "metadata": {},
     "output_type": "display_data"
    }
   ],
   "source": [
    "plt.Figure(figsize=(8, 5))\n",
    "sns.countplot(data=loan_df, x='EmploymentStatus', hue='EmploymentStatus', palette='bright')\n",
    "plt.title('Employment Status Count')\n",
    "plt.show()"
   ]
  },
  {
   "cell_type": "code",
   "execution_count": 20,
   "metadata": {},
   "outputs": [],
   "source": [
    "per_employed = loan_df['EmploymentStatus'].value_counts()['Employed'] / loan_df['EmploymentStatus'].value_counts().sum() * 100\n",
    "per_self_employed = loan_df['EmploymentStatus'].value_counts()['Self-Employed'] / loan_df['EmploymentStatus'].value_counts().sum() * 100\n",
    "per_unemployed = loan_df['EmploymentStatus'].value_counts()['Unemployed'] / loan_df['EmploymentStatus'].value_counts().sum() * 100"
   ]
  },
  {
   "cell_type": "code",
   "execution_count": 21,
   "metadata": {},
   "outputs": [
    {
     "name": "stdout",
     "output_type": "stream",
     "text": [
      "Percentage of Employed: 85.18%\n",
      "Percentage of Self-Employed: 7.87%\n",
      "Percentage of Unemployed: 6.96%\n"
     ]
    }
   ],
   "source": [
    "print(f'Percentage of Employed: {per_employed:.2f}%')\n",
    "print(f'Percentage of Self-Employed: {per_self_employed:.2f}%')\n",
    "print(f'Percentage of Unemployed: {per_unemployed:.2f}%')"
   ]
  },
  {
   "cell_type": "markdown",
   "metadata": {},
   "source": [
    "### Employemnt status by percentage\n",
    "**Employed**: 85.18%\n",
    "\n",
    "**Self-Employed**: 7.87%\n",
    "\n",
    "**Unemployed**: 6.96%"
   ]
  },
  {
   "cell_type": "code",
   "execution_count": 22,
   "metadata": {},
   "outputs": [
    {
     "data": {
      "image/png": "[encoded data removed]",
      "text/plain": [
       "<Figure size 800x500 with 1 Axes>"
      ]
     },
     "metadata": {},
     "output_type": "display_data"
    }
   ],
   "source": [
    "plt.figure(figsize=(8, 5))\n",
    "sns.countplot(data=loan_df, x='EmploymentStatus', hue='LoanApproved', palette='bright')\n",
    "plt.title('Loan Approval by Employement Status')\n",
    "plt.show()"
   ]
  },
  {
   "cell_type": "code",
   "execution_count": 23,
   "metadata": {},
   "outputs": [
    {
     "name": "stdout",
     "output_type": "stream",
     "text": [
      "Percentage of Employed People Whose Loans Were Rejected: 76.00%\n",
      "Percentage of Employed People Whose Loans Were Approved: 24.00%\n",
      "Percentage of Self-Employed People Whose Loans Were Rejected: 72.16%\n",
      "Percentage of Self-Employed People Whose Loans Were Approved: 27.84%\n",
      "Percentage of Unemployed People Whose Loans Were Rejected: 81.81%\n",
      "Percentage of Unemployed People Whose Loans Were Approved: 18.19%\n"
     ]
    }
   ],
   "source": [
    "employed_rejected = loan_df[(loan_df['EmploymentStatus'] == 'Employed') & (loan_df['LoanApproved'] == 0)]\n",
    "employed_approved = loan_df[(loan_df['EmploymentStatus'] == 'Employed') & (loan_df['LoanApproved'] == 1)]\n",
    "semi_employed_rejected = loan_df[(loan_df['EmploymentStatus'] == 'Self-Employed') & (loan_df['LoanApproved'] == 0)]\n",
    "self_employed_approved = loan_df[(loan_df['EmploymentStatus'] == 'Self-Employed') & (loan_df['LoanApproved'] == 1)]\n",
    "unemployed_rejected = loan_df[(loan_df['EmploymentStatus'] == 'Unemployed') & (loan_df['LoanApproved'] == 0)]\n",
    "unemployed_approved = loan_df[(loan_df['EmploymentStatus'] == 'Unemployed') & (loan_df['LoanApproved'] == 1)]\n",
    "\n",
    "\n",
    "per_employed_rejected = len(employed_rejected) / len(loan_df[loan_df['EmploymentStatus'] == 'Employed']) * 100\n",
    "per_employed_approved = len(employed_approved) / len(loan_df[loan_df['EmploymentStatus'] == 'Employed']) * 100\n",
    "per_self_employed_rejected = len(semi_employed_rejected) / len(loan_df[loan_df['EmploymentStatus'] == 'Self-Employed']) * 100\n",
    "per_self_employed_approved = len(self_employed_approved) / len(loan_df[loan_df['EmploymentStatus'] == 'Self-Employed']) * 100\n",
    "per_unemployed_rejected = len(unemployed_rejected) / len(loan_df[loan_df['EmploymentStatus'] == 'Unemployed']) * 100\n",
    "per_unemployed_approved = len(unemployed_approved) / len(loan_df[loan_df['EmploymentStatus'] == 'Unemployed']) * 100\n",
    "\n",
    "print(f'Percentage of Employed People Whose Loans Were Rejected: {per_employed_rejected:.2f}%')\n",
    "print(f'Percentage of Employed People Whose Loans Were Approved: {per_employed_approved:.2f}%')\n",
    "print(f'Percentage of Self-Employed People Whose Loans Were Rejected: {per_self_employed_rejected:.2f}%')\n",
    "print(f'Percentage of Self-Employed People Whose Loans Were Approved: {per_self_employed_approved:.2f}%')\n",
    "print(f'Percentage of Unemployed People Whose Loans Were Rejected: {per_unemployed_rejected:.2f}%')\n",
    "print(f'Percentage of Unemployed People Whose Loans Were Approved: {per_unemployed_approved:.2f}%')"
   ]
  },
  {
   "cell_type": "markdown",
   "metadata": {},
   "source": [
    "#### Employed\n",
    "- **Percentage Rejected**: 76.00%\n",
    "\n",
    "- **Percentage Approved**: 24.00%\n",
    "\n",
    "#### Self-employed\n",
    "- **Percentage Rejected**: 72.16%\n",
    "\n",
    "- **Percentage Approved**: 27.84%\n",
    "\n",
    "#### Unemployed\n",
    "- **Percentage Rejected**: 81.81%\n",
    "\n",
    "- **Percentage Approved**: 18.19%\n",
    "\n"
   ]
  },
  {
   "cell_type": "code",
   "execution_count": 24,
   "metadata": {},
   "outputs": [
    {
     "data": {
      "image/png": "[encoded data removed]",
      "text/plain": [
       "<Figure size 800x500 with 1 Axes>"
      ]
     },
     "metadata": {},
     "output_type": "display_data"
    }
   ],
   "source": [
    "plt.figure(figsize=(8, 5))\n",
    "sns.countplot(data=loan_df, x='EducationLevel', hue='EducationLevel', palette='bright')\n",
    "plt.title('Education Level Count')\n",
    "plt.show()"
   ]
  },
  {
   "cell_type": "code",
   "execution_count": 25,
   "metadata": {},
   "outputs": [
    {
     "name": "stdout",
     "output_type": "stream",
     "text": [
      "Percentage of Master Degree Holders: 15.25%\n",
      "Percentage of Associate Degree Holders: 20.17%\n",
      "Percentage of Bachelor Degree Holders: 30.27%\n",
      "Percentage of High School Graduates: 29.54%\n",
      "Percentage of Doctorate Degree Holders: 4.77%\n"
     ]
    }
   ],
   "source": [
    "per_master = loan_df['EducationLevel'].value_counts()['Master']/loan_df['EducationLevel'].value_counts().sum()*100\n",
    "per_associate = loan_df['EducationLevel'].value_counts()['Associate']/loan_df['EducationLevel'].value_counts().sum()*100\n",
    "per_bachelor = loan_df['EducationLevel'].value_counts()['Bachelor']/loan_df['EducationLevel'].value_counts().sum()*100\n",
    "per_high_school = loan_df['EducationLevel'].value_counts()['High School']/loan_df['EducationLevel'].value_counts().sum()*100\n",
    "per_doctorate = loan_df['EducationLevel'].value_counts()['Doctorate']/loan_df['EducationLevel'].value_counts().sum()*100\n",
    "\n",
    "print(f'Percentage of Master Degree Holders: {per_master:.2f}%')\n",
    "print(f'Percentage of Associate Degree Holders: {per_associate:.2f}%')\n",
    "print(f'Percentage of Bachelor Degree Holders: {per_bachelor:.2f}%')\n",
    "print(f'Percentage of High School Graduates: {per_high_school:.2f}%')\n",
    "print(f'Percentage of Doctorate Degree Holders: {per_doctorate:.2f}%')"
   ]
  },
  {
   "cell_type": "markdown",
   "metadata": {},
   "source": [
    "### Education Level by Percentage\n",
    "**Master Degree**: 15.25%\n",
    "\n",
    "**Associate Degree**: 20.17%\n",
    "\n",
    "**Bachelor Degree**: 30.27%\n",
    "\n",
    "**High School**: 29.54%"
   ]
  },
  {
   "cell_type": "code",
   "execution_count": 26,
   "metadata": {},
   "outputs": [
    {
     "data": {
      "image/png": "[encoded data removed]",
      "text/plain": [
       "<Figure size 800x500 with 1 Axes>"
      ]
     },
     "metadata": {},
     "output_type": "display_data"
    }
   ],
   "source": [
    "plt.figure(figsize=(8, 5))\n",
    "sns.countplot(data=loan_df, x='EducationLevel', hue='LoanApproved', palette='bright')\n",
    "plt.title('Loan Approval by Education Level')\n",
    "plt.show()"
   ]
  },
  {
   "cell_type": "code",
   "execution_count": 27,
   "metadata": {},
   "outputs": [
    {
     "name": "stdout",
     "output_type": "stream",
     "text": [
      "Percentage of Master Degree Holders Whose Loans Were Rejected: 64.92%\n",
      "Percentage of Master Degree Holders Whose Loans Were Approved: 35.08%\n",
      "Percentage of Associate Degree Holders Whose Loans Were Rejected: 79.57%\n",
      "Percentage of Associate Degree Holders Whose Loans Were Approved: 20.43%\n",
      "Percentage of Bachelor Degree Holders Whose Loans Were Rejected: 73.36%\n",
      "Percentage of Bachelor Degree Holders Whose Loans Were Approved: 26.64%\n",
      "Percentage of High School Graduates Whose Loans Were Rejected: 85.56%\n",
      "Percentage of High School Graduates Whose Loans Were Approved: 14.44%\n",
      "Percentage of Doctorate Degree Holders Whose Loans Were Rejected: 55.97%\n",
      "Percentage of Doctorate Degree Holders Whose Loans Were Approved: 44.03%\n"
     ]
    }
   ],
   "source": [
    "master_rejected = loan_df[(loan_df['EducationLevel'] == 'Master') & (loan_df['LoanApproved'] == 0)]\n",
    "master_approved = loan_df[(loan_df['EducationLevel'] == 'Master') & (loan_df['LoanApproved'] == 1)] \n",
    "associate_rejected = loan_df[(loan_df['EducationLevel'] == 'Associate') & (loan_df['LoanApproved'] == 0)]\n",
    "associate_approved = loan_df[(loan_df['EducationLevel'] == 'Associate') & (loan_df['LoanApproved'] == 1)]\n",
    "bachelor_rejected = loan_df[(loan_df['EducationLevel'] == 'Bachelor') & (loan_df['LoanApproved'] == 0)]\n",
    "bachelor_approved = loan_df[(loan_df['EducationLevel'] == 'Bachelor') & (loan_df['LoanApproved'] == 1)]\n",
    "high_school_rejected = loan_df[(loan_df['EducationLevel'] == 'High School') & (loan_df['LoanApproved'] == 0)]\n",
    "high_school_approved = loan_df[(loan_df['EducationLevel'] == 'High School') & (loan_df['LoanApproved'] == 1)]\n",
    "doctorate_rejected = loan_df[(loan_df['EducationLevel'] == 'Doctorate') & (loan_df['LoanApproved'] == 0)]\n",
    "doctorate_approved = loan_df[(loan_df['EducationLevel'] == 'Doctorate') & (loan_df['LoanApproved'] == 1)]\n",
    "\n",
    "per_master_rejected = len(master_rejected) / len(loan_df[loan_df['EducationLevel'] == 'Master']) * 100\n",
    "per_master_approved = len(master_approved) / len(loan_df[loan_df['EducationLevel'] == 'Master']) * 100\n",
    "per_associate_rejected = len(associate_rejected) / len(loan_df[loan_df['EducationLevel'] == 'Associate']) * 100\n",
    "per_associate_approved = len(associate_approved) / len(loan_df[loan_df['EducationLevel'] == 'Associate']) * 100\n",
    "per_bachelor_rejected = len(bachelor_rejected) / len(loan_df[loan_df['EducationLevel'] == 'Bachelor']) * 100\n",
    "per_bachelor_approved = len(bachelor_approved) / len(loan_df[loan_df['EducationLevel'] == 'Bachelor']) * 100\n",
    "per_high_school_rejected = len(high_school_rejected) / len(loan_df[loan_df['EducationLevel'] == 'High School']) * 100\n",
    "per_high_school_approved = len(high_school_approved) / len(loan_df[loan_df['EducationLevel'] == 'High School']) * 100\n",
    "per_doctorate_rejected = len(doctorate_rejected) / len(loan_df[loan_df['EducationLevel'] == 'Doctorate']) * 100\n",
    "per_doctorate_approved = len(doctorate_approved) / len(loan_df[loan_df['EducationLevel'] == 'Doctorate']) * 100\n",
    "\n",
    "print(f'Percentage of Master Degree Holders Whose Loans Were Rejected: {per_master_rejected:.2f}%')\n",
    "print(f'Percentage of Master Degree Holders Whose Loans Were Approved: {per_master_approved:.2f}%')\n",
    "print(f'Percentage of Associate Degree Holders Whose Loans Were Rejected: {per_associate_rejected:.2f}%')\n",
    "print(f'Percentage of Associate Degree Holders Whose Loans Were Approved: {per_associate_approved:.2f}%')\n",
    "print(f'Percentage of Bachelor Degree Holders Whose Loans Were Rejected: {per_bachelor_rejected:.2f}%')\n",
    "print(f'Percentage of Bachelor Degree Holders Whose Loans Were Approved: {per_bachelor_approved:.2f}%')\n",
    "print(f'Percentage of High School Graduates Whose Loans Were Rejected: {per_high_school_rejected:.2f}%')\n",
    "print(f'Percentage of High School Graduates Whose Loans Were Approved: {per_high_school_approved:.2f}%')\n",
    "print(f'Percentage of Doctorate Degree Holders Whose Loans Were Rejected: {per_doctorate_rejected:.2f}%')\n",
    "print(f'Percentage of Doctorate Degree Holders Whose Loans Were Approved: {per_doctorate_approved:.2f}%')\n"
   ]
  },
  {
   "cell_type": "markdown",
   "metadata": {},
   "source": [
    "##### Master Degree\n",
    "- **Rejected**: 64.92%\n",
    "\n",
    "- **Approved**: 35.08%\n",
    "\n",
    "#### Associate Degree\n",
    "- **Rejected**: 79.57%\n",
    "\n",
    "- **Approved**: 20.43%\n",
    "\n",
    "#### Bachelor Degree\n",
    "- **Rejected**: 73.36%\n",
    "\n",
    "- **Approved**: 26.64%\n",
    "\n",
    "#### High School\n",
    "- **Rejected**: 85.56%\n",
    "\n",
    "- **Approved**: 14.44%\n",
    "\n",
    "#### Doctorate Degree\n",
    "- **Rejected**: 55.97%\n",
    "\n",
    "- **Approved**: 44.03%"
   ]
  },
  {
   "cell_type": "code",
   "execution_count": 28,
   "metadata": {},
   "outputs": [
    {
     "data": {
      "text/plain": [
       "Index(['EmploymentStatus', 'EducationLevel', 'MaritalStatus',\n",
       "       'HomeOwnershipStatus', 'LoanPurpose'],\n",
       "      dtype='object')"
      ]
     },
     "execution_count": 28,
     "metadata": {},
     "output_type": "execute_result"
    }
   ],
   "source": [
    "categorical_cols"
   ]
  },
  {
   "cell_type": "code",
   "execution_count": 29,
   "metadata": {},
   "outputs": [
    {
     "data": {
      "image/png": "[encoded data removed]",
      "text/plain": [
       "<Figure size 800x500 with 1 Axes>"
      ]
     },
     "metadata": {},
     "output_type": "display_data"
    }
   ],
   "source": [
    "plt.figure(figsize=(8, 5))\n",
    "sns.countplot(data=loan_df, x='MaritalStatus', hue='MaritalStatus', palette='bright')\n",
    "plt.title('Marital Status Count')\n",
    "plt.show()"
   ]
  },
  {
   "cell_type": "code",
   "execution_count": 30,
   "metadata": {},
   "outputs": [
    {
     "name": "stdout",
     "output_type": "stream",
     "text": [
      "Percentage of Married People: 50.20%\n",
      "Percentage of Single People: 30.39%\n",
      "Percentage of Divorced People: 14.41%\n",
      "Percentage of Widowed People: 5.00%\n"
     ]
    }
   ],
   "source": [
    "per_married = loan_df['MaritalStatus'].value_counts()['Married'] / loan_df['MaritalStatus'].value_counts().sum() * 100\n",
    "per_single = loan_df['MaritalStatus'].value_counts()['Single'] / loan_df['MaritalStatus'].value_counts().sum() * 100\n",
    "per_divorced = loan_df['MaritalStatus'].value_counts()['Divorced'] / loan_df['MaritalStatus'].value_counts().sum() * 100\n",
    "per_widowed = loan_df['MaritalStatus'].value_counts()['Widowed'] / loan_df['MaritalStatus'].value_counts().sum() * 100\n",
    "\n",
    "print(f'Percentage of Married People: {per_married:.2f}%')\n",
    "print(f'Percentage of Single People: {per_single:.2f}%')\n",
    "print(f'Percentage of Divorced People: {per_divorced:.2f}%')\n",
    "print(f'Percentage of Widowed People: {per_widowed:.2f}%')"
   ]
  },
  {
   "cell_type": "markdown",
   "metadata": {},
   "source": [
    "### Marital Status by Percentage\n",
    "**Married**: 50.20%\n",
    "\n",
    "**Single**: 30.39%\n",
    "\n",
    "**Divorced**: 14.41%\n",
    "\n",
    "**Widowed**: 5.00%"
   ]
  },
  {
   "cell_type": "code",
   "execution_count": 31,
   "metadata": {},
   "outputs": [
    {
     "data": {
      "image/png": "[encoded data removed]",
      "text/plain": [
       "<Figure size 800x500 with 1 Axes>"
      ]
     },
     "metadata": {},
     "output_type": "display_data"
    }
   ],
   "source": [
    "plt.figure(figsize=(8, 5))\n",
    "sns.countplot(data=loan_df, x='MaritalStatus', hue='LoanApproved', palette='bright')\n",
    "plt.title('Loan Approval by Marital Status')\n",
    "plt.show()"
   ]
  },
  {
   "cell_type": "code",
   "execution_count": 33,
   "metadata": {},
   "outputs": [
    {
     "name": "stdout",
     "output_type": "stream",
     "text": [
      "Percentage of Married People Whose Loans Were Rejected: 76.15%\n",
      "Percentage of Married People Whose Loans Were Approved: 23.85%\n",
      "Percentage of Single People Whose Loans Were Rejected: 76.06%\n",
      "Percentage of Single People Whose Loans Were Approved: 23.94%\n",
      "Percentage of Divorced People Whose Loans Were Rejected: 75.50%\n",
      "Percentage of Divorced People Whose Loans Were Approved: 24.50%\n",
      "Percentage of Widowed People Whose Loans Were Rejected: 77.58%\n",
      "Percentage of Widowed People Whose Loans Were Approved: 22.42%\n"
     ]
    }
   ],
   "source": [
    "married_rejected = loan_df[(loan_df['MaritalStatus'] == 'Married') & (loan_df['LoanApproved'] == 0)]\n",
    "married_approved = loan_df[(loan_df['MaritalStatus'] == 'Married') & (loan_df['LoanApproved'] == 1)]\n",
    "single_rejected = loan_df[(loan_df['MaritalStatus'] == 'Single') & (loan_df['LoanApproved'] == 0)]\n",
    "single_approved = loan_df[(loan_df['MaritalStatus'] == 'Single') & (loan_df['LoanApproved'] == 1)]\n",
    "divorced_rejected = loan_df[(loan_df['MaritalStatus'] == 'Divorced') & (loan_df['LoanApproved'] == 0)]\n",
    "divorced_approved = loan_df[(loan_df['MaritalStatus'] == 'Divorced') & (loan_df['LoanApproved'] == 1)]\n",
    "widowed_rejected = loan_df[(loan_df['MaritalStatus'] == 'Widowed') & (loan_df['LoanApproved'] == 0)]\n",
    "widowed_approved = loan_df[(loan_df['MaritalStatus'] == 'Widowed') & (loan_df['LoanApproved'] == 1)]\n",
    "\n",
    "per_married_rejected = len(married_rejected) / len(loan_df[loan_df['MaritalStatus'] == 'Married']) * 100\n",
    "per_married_approved = len(married_approved) / len(loan_df[loan_df['MaritalStatus'] == 'Married']) * 100\n",
    "per_single_rejected = len(single_rejected) / len(loan_df[loan_df['MaritalStatus'] == 'Single']) * 100\n",
    "per_single_approved = len(single_approved) / len(loan_df[loan_df['MaritalStatus'] == 'Single']) * 100\n",
    "per_divorced_rejected = len(divorced_rejected) / len(loan_df[loan_df['MaritalStatus'] == 'Divorced']) * 100\n",
    "per_divorced_approved = len(divorced_approved) / len(loan_df[loan_df['MaritalStatus'] == 'Divorced']) * 100\n",
    "per_widowed_rejected = len(widowed_rejected) / len(loan_df[loan_df['MaritalStatus'] == 'Widowed']) * 100\n",
    "per_widowed_approved = len(widowed_approved) / len(loan_df[loan_df['MaritalStatus'] == 'Widowed']) * 100\n",
    "\n",
    "print(f'Percentage of Married People Whose Loans Were Rejected: {per_married_rejected:.2f}%')\n",
    "print(f'Percentage of Married People Whose Loans Were Approved: {per_married_approved:.2f}%')\n",
    "print(f'Percentage of Single People Whose Loans Were Rejected: {per_single_rejected:.2f}%')\n",
    "print(f'Percentage of Single People Whose Loans Were Approved: {per_single_approved:.2f}%')\n",
    "print(f'Percentage of Divorced People Whose Loans Were Rejected: {per_divorced_rejected:.2f}%')\n",
    "print(f'Percentage of Divorced People Whose Loans Were Approved: {per_divorced_approved:.2f}%')\n",
    "print(f'Percentage of Widowed People Whose Loans Were Rejected: {per_widowed_rejected:.2f}%')\n",
    "print(f'Percentage of Widowed People Whose Loans Were Approved: {per_widowed_approved:.2f}%')"
   ]
  },
  {
   "cell_type": "markdown",
   "metadata": {},
   "source": [
    "##### Married  \n",
    "- **Rejected**: 76.15%  \n",
    "- **Approved**: 23.85%  \n",
    "\n",
    "#### Single  \n",
    "- **Rejected**: 76.06%  \n",
    "- **Approved**: 23.94%  \n",
    "\n",
    "#### Divorced  \n",
    "- **Rejected**: 75.50%  \n",
    "- **Approved**: 24.50%  \n",
    "\n",
    "#### Widowed  \n",
    "- **Rejected**: 77.58%  \n",
    "- **Approved**: 22.42%  \n"
   ]
  },
  {
   "cell_type": "code",
   "execution_count": 55,
   "metadata": {},
   "outputs": [
    {
     "data": {
      "image/png": "[encoded data removed]",
      "text/plain": [
       "<Figure size 800x500 with 1 Axes>"
      ]
     },
     "metadata": {},
     "output_type": "display_data"
    }
   ],
   "source": [
    "plt.figure(figsize=(8, 5))\n",
    "sns.countplot(data=loan_df, x='HomeOwnershipStatus', hue='HomeOwnershipStatus', palette='bright')\n",
    "plt.title('Home Ownership Status Count')\n",
    "plt.show()"
   ]
  },
  {
   "cell_type": "code",
   "execution_count": 35,
   "metadata": {},
   "outputs": [
    {
     "name": "stdout",
     "output_type": "stream",
     "text": [
      "Percentage of People Who Own Their Homes: 19.69%\n",
      "Percentage of People Who Have a Mortgage: 39.70%\n",
      "Percentage of People Who Rent: 30.44%\n",
      "Percentage of People Who Have Other Home Ownership Status: 10.18%\n"
     ]
    }
   ],
   "source": [
    "per_own = loan_df['HomeOwnershipStatus'].value_counts()['Own'] / loan_df['HomeOwnershipStatus'].value_counts().sum() * 100\n",
    "per_mortgage = loan_df['HomeOwnershipStatus'].value_counts()['Mortgage'] / loan_df['HomeOwnershipStatus'].value_counts().sum() * 100\n",
    "per_rent = loan_df['HomeOwnershipStatus'].value_counts()['Rent'] / loan_df['HomeOwnershipStatus'].value_counts().sum() * 100\n",
    "per_other = loan_df['HomeOwnershipStatus'].value_counts()['Other'] / loan_df['HomeOwnershipStatus'].value_counts().sum() * 100\n",
    "\n",
    "print(f'Percentage of People Who Own Their Homes: {per_own:.2f}%')\n",
    "print(f'Percentage of People Who Have a Mortgage: {per_mortgage:.2f}%')\n",
    "print(f'Percentage of People Who Rent: {per_rent:.2f}%')\n",
    "print(f'Percentage of People Who Have Other Home Ownership Status: {per_other:.2f}%')"
   ]
  },
  {
   "cell_type": "markdown",
   "metadata": {},
   "source": [
    "### Home Ownership Status by Percentage\n",
    "**Own**: 19.69%\n",
    "\n",
    "**Mortage**: 39.70%\n",
    "\n",
    "**Rent**: 30.44%\n",
    "\n",
    "**Other**: 10.18%"
   ]
  },
  {
   "cell_type": "code",
   "execution_count": null,
   "metadata": {},
   "outputs": [
    {
     "data": {
      "image/png": "[encoded data removed]",
      "text/plain": [
       "<Figure size 800x500 with 1 Axes>"
      ]
     },
     "metadata": {},
     "output_type": "display_data"
    }
   ],
   "source": [
    "plt.figure(figsize=(8, 5))\n",
    "sns.countplot(data=loan_df, x='HomeOwnershipStatus', hue='LoanApproved', palette='bright')\n",
    "plt.title('Loan Approval by Home Ownership Status')\n",
    "plt.show()"
   ]
  },
  {
   "cell_type": "code",
   "execution_count": 36,
   "metadata": {},
   "outputs": [
    {
     "name": "stdout",
     "output_type": "stream",
     "text": [
      "Percentage of People Who Own Their Homes Whose Loans Were Rejected: 75.11%\n",
      "Percentage of People Who Own Their Homes Whose Loans Were Approved: 24.89%\n",
      "Percentage of People Who Have a Mortgage Whose Loans Were Rejected: 74.85%\n",
      "Percentage of People Who Have a Mortgage Whose Loans Were Approved: 25.15%\n",
      "Percentage of People Who Rent Whose Loans Were Rejected: 77.23%\n",
      "Percentage of People Who Rent Whose Loans Were Approved: 22.77%\n",
      "Percentage of People Who Have Other Home Ownership Status Whose Loans Were Rejected: 79.52%\n",
      "Percentage of People Who Have Other Home Ownership Status Whose Loans Were Approved: 20.48%\n"
     ]
    }
   ],
   "source": [
    "own_rejected = loan_df[(loan_df['HomeOwnershipStatus'] == 'Own') & (loan_df['LoanApproved'] == 0)]\n",
    "own_approved = loan_df[(loan_df['HomeOwnershipStatus'] == 'Own') & (loan_df['LoanApproved'] == 1)]\n",
    "mortgage_rejected = loan_df[(loan_df['HomeOwnershipStatus'] == 'Mortgage') & (loan_df['LoanApproved'] == 0)]\n",
    "mortgage_approved = loan_df[(loan_df['HomeOwnershipStatus'] == 'Mortgage') & (loan_df['LoanApproved'] == 1)]\n",
    "rent_rejected = loan_df[(loan_df['HomeOwnershipStatus'] == 'Rent') & (loan_df['LoanApproved'] == 0)]\n",
    "rent_approved = loan_df[(loan_df['HomeOwnershipStatus'] == 'Rent') & (loan_df['LoanApproved'] == 1)]\n",
    "other_rejected = loan_df[(loan_df['HomeOwnershipStatus'] == 'Other') & (loan_df['LoanApproved'] == 0)]\n",
    "other_approved = loan_df[(loan_df['HomeOwnershipStatus'] == 'Other') & (loan_df['LoanApproved'] == 1)]\n",
    "\n",
    "per_own_rejected = len(own_rejected) / len(loan_df[loan_df['HomeOwnershipStatus'] == 'Own']) * 100\n",
    "per_own_approved = len(own_approved) / len(loan_df[loan_df['HomeOwnershipStatus'] == 'Own']) * 100\n",
    "per_mortgage_rejected = len(mortgage_rejected) / len(loan_df[loan_df['HomeOwnershipStatus'] == 'Mortgage']) * 100\n",
    "per_mortgage_approved = len(mortgage_approved) / len(loan_df[loan_df['HomeOwnershipStatus'] == 'Mortgage']) * 100\n",
    "per_rent_rejected = len(rent_rejected) / len(loan_df[loan_df['HomeOwnershipStatus'] == 'Rent']) * 100\n",
    "per_rent_approved = len(rent_approved) / len(loan_df[loan_df['HomeOwnershipStatus'] == 'Rent']) * 100\n",
    "per_other_rejected = len(other_rejected) / len(loan_df[loan_df['HomeOwnershipStatus'] == 'Other']) * 100\n",
    "per_other_approved = len(other_approved) / len(loan_df[loan_df['HomeOwnershipStatus'] == 'Other']) * 100\n",
    "\n",
    "print(f'Percentage of People Who Own Their Homes Whose Loans Were Rejected: {per_own_rejected:.2f}%')\n",
    "print(f'Percentage of People Who Own Their Homes Whose Loans Were Approved: {per_own_approved:.2f}%')\n",
    "print(f'Percentage of People Who Have a Mortgage Whose Loans Were Rejected: {per_mortgage_rejected:.2f}%')\n",
    "print(f'Percentage of People Who Have a Mortgage Whose Loans Were Approved: {per_mortgage_approved:.2f}%')\n",
    "print(f'Percentage of People Who Rent Whose Loans Were Rejected: {per_rent_rejected:.2f}%')\n",
    "print(f'Percentage of People Who Rent Whose Loans Were Approved: {per_rent_approved:.2f}%')\n",
    "print(f'Percentage of People Who Have Other Home Ownership Status Whose Loans Were Rejected: {per_other_rejected:.2f}%')\n",
    "print(f'Percentage of People Who Have Other Home Ownership Status Whose Loans Were Approved: {per_other_approved:.2f}%')\n"
   ]
  },
  {
   "cell_type": "markdown",
   "metadata": {},
   "source": [
    "##### Own Home  \n",
    "- **Rejected**: 75.11%  \n",
    "- **Approved**: 24.89%  \n",
    "\n",
    "#### Mortgage  \n",
    "- **Rejected**: 74.85%  \n",
    "- **Approved**: 25.15%  \n",
    "\n",
    "#### Rent  \n",
    "- **Rejected**: 77.23%  \n",
    "- **Approved**: 22.77%  \n",
    "\n",
    "#### Other Home Ownership Status  \n",
    "- **Rejected**: 79.52%  \n",
    "- **Approved**: 20.48%  \n"
   ]
  },
  {
   "cell_type": "code",
   "execution_count": 38,
   "metadata": {},
   "outputs": [
    {
     "data": {
      "image/png": "[encoded data removed]",
      "text/plain": [
       "<Figure size 800x500 with 1 Axes>"
      ]
     },
     "metadata": {},
     "output_type": "display_data"
    }
   ],
   "source": [
    "plt.figure(figsize=(8, 5))\n",
    "sns.countplot(data=loan_df, x='LoanPurpose', hue='LoanPurpose', palette='bright')\n",
    "plt.title('Loan Purpose Count')\n",
    "plt.show()"
   ]
  },
  {
   "cell_type": "code",
   "execution_count": 39,
   "metadata": {},
   "outputs": [
    {
     "data": {
      "text/plain": [
       "LoanPurpose\n",
       "Home                  5925\n",
       "Debt Consolidation    5027\n",
       "Auto                  4034\n",
       "Education             3008\n",
       "Other                 2006\n",
       "Name: count, dtype: int64"
      ]
     },
     "execution_count": 39,
     "metadata": {},
     "output_type": "execute_result"
    }
   ],
   "source": [
    "loan_df['LoanPurpose'].value_counts()"
   ]
  },
  {
   "cell_type": "code",
   "execution_count": 41,
   "metadata": {},
   "outputs": [
    {
     "name": "stdout",
     "output_type": "stream",
     "text": [
      "Percentage of People Who Took Loan for Home: 29.62%\n",
      "Percentage of People Who Took Loan for Debt Consolidation: 25.14%\n",
      "Percentage of People Who Took Loan for Education: 15.04%\n",
      "Percentage of People Who Took Loan for Other Purposes: 10.03%\n",
      "Percentage of People Who Took Loan for Auto: 20.17%\n"
     ]
    }
   ],
   "source": [
    "per_home = loan_df['LoanPurpose'].value_counts()['Home'] / loan_df['LoanPurpose'].value_counts().sum() * 100\n",
    "per_debtConsolidation = loan_df['LoanPurpose'].value_counts()['Debt Consolidation'] / loan_df['LoanPurpose'].value_counts().sum() * 100\n",
    "per_education = loan_df['LoanPurpose'].value_counts()['Education'] / loan_df['LoanPurpose'].value_counts().sum() * 100\n",
    "per_other = loan_df['LoanPurpose'].value_counts()['Other'] / loan_df['LoanPurpose'].value_counts().sum() * 100\n",
    "per_auto = loan_df['LoanPurpose'].value_counts()['Auto'] / loan_df['LoanPurpose'].value_counts().sum() * 100\n",
    "\n",
    "print(f'Percentage of People Who Took Loan for Home: {per_home:.2f}%')\n",
    "print(f'Percentage of People Who Took Loan for Debt Consolidation: {per_debtConsolidation:.2f}%')\n",
    "print(f'Percentage of People Who Took Loan for Education: {per_education:.2f}%')\n",
    "print(f'Percentage of People Who Took Loan for Other Purposes: {per_other:.2f}%')\n",
    "print(f'Percentage of People Who Took Loan for Auto: {per_auto:.2f}%')"
   ]
  },
  {
   "cell_type": "markdown",
   "metadata": {},
   "source": [
    "### Loan Purpose by Percentage\n",
    "\n",
    "**Home**: 29.62%\n",
    "\n",
    "**Debt Consolidation**: 25.14%\n",
    "\n",
    "**Education**: 15.04%\n",
    "\n",
    "**Other**: 10.03%\n",
    "\n",
    "**Auto**: 20.17%"
   ]
  },
  {
   "cell_type": "code",
   "execution_count": 58,
   "metadata": {},
   "outputs": [
    {
     "data": {
      "image/png": "[encoded data removed]",
      "text/plain": [
       "<Figure size 800x500 with 1 Axes>"
      ]
     },
     "metadata": {},
     "output_type": "display_data"
    }
   ],
   "source": [
    "plt.figure(figsize=(8, 5))\n",
    "sns.countplot(data=loan_df, x='LoanPurpose', hue='LoanApproved', palette='bright')\n",
    "plt.title('Loan Approval by Home Ownership Status')\n",
    "plt.show()"
   ]
  },
  {
   "cell_type": "code",
   "execution_count": 42,
   "metadata": {},
   "outputs": [
    {
     "name": "stdout",
     "output_type": "stream",
     "text": [
      "Percentage of People Who Took Loan for Home Whose Loans Were Rejected: 76.20%\n",
      "Percentage of People Who Took Loan for Home Whose Loans Were Approved: 23.80%\n",
      "Percentage of People Who Took Loan for Debt Consolidation Whose Loans Were Rejected: 76.49%\n",
      "Percentage of People Who Took Loan for Debt Consolidation Whose Loans Were Approved: 23.51%\n",
      "Percentage of People Who Took Loan for Education Whose Loans Were Rejected: 74.70%\n",
      "Percentage of People Who Took Loan for Education Whose Loans Were Approved: 25.30%\n",
      "Percentage of People Who Took Loan for Other Purposes Whose Loans Were Rejected: 77.67%\n",
      "Percentage of People Who Took Loan for Other Purposes Whose Loans Were Approved: 22.33%\n",
      "Percentage of People Who Took Loan for Auto Whose Loans Were Rejected: 75.73%\n",
      "Percentage of People Who Took Loan for Auto Whose Loans Were Approved: 24.27%\n"
     ]
    }
   ],
   "source": [
    "own_rejected = loan_df[(loan_df['LoanPurpose'] == 'Home') & (loan_df['LoanApproved'] == 0)]\n",
    "own_approved = loan_df[(loan_df['LoanPurpose'] == 'Home') & (loan_df['LoanApproved'] == 1)]\n",
    "dc_rejected = loan_df[(loan_df['LoanPurpose'] == 'Debt Consolidation') & (loan_df['LoanApproved'] == 0)]\n",
    "dc_approved = loan_df[(loan_df['LoanPurpose'] == 'Debt Consolidation') & (loan_df['LoanApproved'] == 1)]\n",
    "edu_rejected = loan_df[(loan_df['LoanPurpose'] == 'Education') & (loan_df['LoanApproved'] == 0)]\n",
    "edu_approved = loan_df[(loan_df['LoanPurpose'] == 'Education') & (loan_df['LoanApproved'] == 1)]\n",
    "other_rejected = loan_df[(loan_df['LoanPurpose'] == 'Other') & (loan_df['LoanApproved'] == 0)]\n",
    "other_approved = loan_df[(loan_df['LoanPurpose'] == 'Other') & (loan_df['LoanApproved'] == 1)]\n",
    "auto_rejected = loan_df[(loan_df['LoanPurpose'] == 'Auto') & (loan_df['LoanApproved'] == 0)]\n",
    "auto_approved = loan_df[(loan_df['LoanPurpose'] == 'Auto') & (loan_df['LoanApproved'] == 1)]\n",
    "\n",
    "per_own_rejected = len(own_rejected) / len(loan_df[loan_df['LoanPurpose'] == 'Home']) * 100\n",
    "per_own_approved = len(own_approved) / len(loan_df[loan_df['LoanPurpose'] == 'Home']) * 100\n",
    "per_dc_rejected = len(dc_rejected) / len(loan_df[loan_df['LoanPurpose'] == 'Debt Consolidation']) * 100\n",
    "per_dc_approved = len(dc_approved) / len(loan_df[loan_df['LoanPurpose'] == 'Debt Consolidation']) * 100\n",
    "per_edu_rejected = len(edu_rejected) / len(loan_df[loan_df['LoanPurpose'] == 'Education']) * 100\n",
    "per_edu_approved = len(edu_approved) / len(loan_df[loan_df['LoanPurpose'] == 'Education']) * 100\n",
    "per_other_rejected = len(other_rejected) / len(loan_df[loan_df['LoanPurpose'] == 'Other']) * 100\n",
    "per_other_approved = len(other_approved) / len(loan_df[loan_df['LoanPurpose'] == 'Other']) * 100\n",
    "per_auto_rejected = len(auto_rejected) / len(loan_df[loan_df['LoanPurpose'] == 'Auto']) * 100\n",
    "per_auto_approved = len(auto_approved) / len(loan_df[loan_df['LoanPurpose'] == 'Auto']) * 100\n",
    "\n",
    "print(f'Percentage of People Who Took Loan for Home Whose Loans Were Rejected: {per_own_rejected:.2f}%')\n",
    "print(f'Percentage of People Who Took Loan for Home Whose Loans Were Approved: {per_own_approved:.2f}%')\n",
    "print(f'Percentage of People Who Took Loan for Debt Consolidation Whose Loans Were Rejected: {per_dc_rejected:.2f}%')\n",
    "print(f'Percentage of People Who Took Loan for Debt Consolidation Whose Loans Were Approved: {per_dc_approved:.2f}%')\n",
    "print(f'Percentage of People Who Took Loan for Education Whose Loans Were Rejected: {per_edu_rejected:.2f}%')\n",
    "print(f'Percentage of People Who Took Loan for Education Whose Loans Were Approved: {per_edu_approved:.2f}%')\n",
    "print(f'Percentage of People Who Took Loan for Other Purposes Whose Loans Were Rejected: {per_other_rejected:.2f}%')\n",
    "print(f'Percentage of People Who Took Loan for Other Purposes Whose Loans Were Approved: {per_other_approved:.2f}%')\n",
    "print(f'Percentage of People Who Took Loan for Auto Whose Loans Were Rejected: {per_auto_rejected:.2f}%')\n",
    "print(f'Percentage of People Who Took Loan for Auto Whose Loans Were Approved: {per_auto_approved:.2f}%')"
   ]
  },
  {
   "cell_type": "markdown",
   "metadata": {},
   "source": [
    "##### Home Loan  \n",
    "- **Rejected**: 76.20%  \n",
    "- **Approved**: 23.80%  \n",
    "\n",
    "#### Debt Consolidation  \n",
    "- **Rejected**: 76.49%  \n",
    "- **Approved**: 23.51%  \n",
    "\n",
    "#### Education  \n",
    "- **Rejected**: 74.70%  \n",
    "- **Approved**: 25.30%  \n",
    "\n",
    "#### Other Purposes  \n",
    "- **Rejected**: 77.67%  \n",
    "- **Approved**: 22.33%  \n",
    "\n",
    "#### Auto Loan  \n",
    "- **Rejected**: 75.73%  \n",
    "- **Approved**: 24.27%  \n"
   ]
  }
 ],
 "metadata": {
  "kernelspec": {
   "display_name": ".venv",
   "language": "python",
   "name": "python3"
  },
  "language_info": {
   "codemirror_mode": {
    "name": "ipython",
    "version": 3
   },
   "file_extension": ".py",
   "mimetype": "text/x-python",
   "name": "python",
   "nbconvert_exporter": "python",
   "pygments_lexer": "ipython3",
   "version": "3.12.6"
  }
 },
 "nbformat": 4,
 "nbformat_minor": 2
}
